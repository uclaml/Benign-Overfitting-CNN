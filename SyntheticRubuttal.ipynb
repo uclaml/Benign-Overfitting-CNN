{
  "nbformat": 4,
  "nbformat_minor": 5,
  "metadata": {
    "kernelspec": {
      "display_name": "Python 3",
      "language": "python",
      "name": "python3"
    },
    "language_info": {
      "codemirror_mode": {
        "name": "ipython",
        "version": 3
      },
      "file_extension": ".py",
      "mimetype": "text/x-python",
      "name": "python",
      "nbconvert_exporter": "python",
      "pygments_lexer": "ipython3",
      "version": "3.9.5"
    },
    "colab": {
      "name": "SyntheticRubuttal",
      "provenance": [],
      "collapsed_sections": []
    }
  },
  "cells": [
    {
      "cell_type": "code",
      "metadata": {
        "id": "5bd09c7c"
      },
      "source": [
        "import torch\n",
        "import torch.nn as nn\n",
        "import torch.nn.functional as F\n",
        "from torch.nn.parameter import Parameter\n",
        "import math\n",
        "import numpy as np\n",
        "import matplotlib.pyplot as plt"
      ],
      "id": "5bd09c7c",
      "execution_count": null,
      "outputs": []
    },
    {
      "cell_type": "code",
      "metadata": {
        "id": "ee5a5946"
      },
      "source": [
        "class LinearCNN(nn.Module):\n",
        "    def __init__(self, input_dim, out_channel, patch_num):\n",
        "        super(LinearCNN, self).__init__()\n",
        "        self.conv1 = nn.Conv1d(1, out_channel*2, int(input_dim/patch_num), int(input_dim/patch_num))\n",
        "        self.out_channel = out_channel\n",
        "\n",
        "    def forward(self, x):\n",
        "        x = self.conv1(x)\n",
        "        x = torch.pow(x, 3)\n",
        "        x = torch.nn.functional.relu(x)\n",
        "        x = torch.sum(x,2)\n",
        "        output = torch.stack([torch.sum(x[:,:self.out_channel],1), torch.sum(x[:,self.out_channel:],1)]).transpose(1,0)\n",
        "        return output"
      ],
      "id": "ee5a5946",
      "execution_count": null,
      "outputs": []
    },
    {
      "cell_type": "markdown",
      "metadata": {
        "id": "98b73a23"
      },
      "source": [
        "### Data Generation"
      ],
      "id": "98b73a23"
    },
    {
      "cell_type": "code",
      "metadata": {
        "id": "6a9e0419"
      },
      "source": [
        "DATA_NUM = 400\n",
        "CLUSTER_NUM = 1\n",
        "PATCH_NUM = 2\n",
        "PATCH_LEN = 50\n",
        "Noiselevel = 1.0\n",
        "bmu = 1"
      ],
      "id": "6a9e0419",
      "execution_count": null,
      "outputs": []
    },
    {
      "cell_type": "code",
      "metadata": {
        "id": "0544d65a"
      },
      "source": [
        "features = torch.zeros(CLUSTER_NUM, PATCH_LEN)\n",
        "pos = 0\n",
        "for i in range(CLUSTER_NUM):\n",
        "    features[i,pos] = bmu\n",
        "    pos+=1\n"
      ],
      "id": "0544d65a",
      "execution_count": null,
      "outputs": []
    },
    {
      "cell_type": "code",
      "metadata": {
        "id": "bb5fb34c"
      },
      "source": [
        "data = []\n",
        "labels = []\n",
        "\n",
        "for i in range(DATA_NUM*2):\n",
        "    y = np.random.choice([-1,1], 1)[0] \n",
        "    k = torch.randint(0, CLUSTER_NUM, (1,))\n",
        "    xi = torch.tensor(np.random.normal(0, Noiselevel, size=(PATCH_LEN))) \n",
        "    # make it orthogonal \n",
        "    xi[:CLUSTER_NUM] = 0\n",
        "    \n",
        "    x = torch.stack([features[k][0]*y, xi])\n",
        "    \n",
        "    # random permutation\n",
        "    idx = torch.randperm(len(x))\n",
        "    x = x[idx].flatten()\n",
        "\n",
        "    data.append(x)\n",
        "    labels.append(y)\n"
      ],
      "id": "bb5fb34c",
      "execution_count": null,
      "outputs": []
    },
    {
      "cell_type": "code",
      "metadata": {
        "colab": {
          "base_uri": "https://localhost:8080/"
        },
        "id": "ed9dfe4e",
        "outputId": "6cc1cafa-cb48-46e5-81a0-dfbe4ee35ea8"
      },
      "source": [
        "data = torch.stack(data)\n",
        "print(data.shape)\n",
        "\n",
        "labels = torch.tensor(labels)\n",
        "labels[labels==-1] = 0\n",
        "print(labels.shape)"
      ],
      "id": "ed9dfe4e",
      "execution_count": null,
      "outputs": [
        {
          "output_type": "stream",
          "name": "stdout",
          "text": [
            "torch.Size([800, 100])\n",
            "torch.Size([800])\n"
          ]
        }
      ]
    },
    {
      "cell_type": "code",
      "metadata": {
        "colab": {
          "base_uri": "https://localhost:8080/"
        },
        "id": "c9d9f9dd",
        "outputId": "80198cc1-b6e8-4e26-c9dd-f0d0b6750ae0"
      },
      "source": [
        "training_data = data[:DATA_NUM,:].unsqueeze(1).float()\n",
        "test_data = data[DATA_NUM::].unsqueeze(1).float()\n",
        "print(training_data.shape)\n",
        "print(training_data.shape, test_data.shape)\n",
        "\n",
        "training_labels = labels[:DATA_NUM]\n",
        "test_labels = labels[DATA_NUM:]\n",
        "print(training_labels.shape, test_labels.shape)"
      ],
      "id": "c9d9f9dd",
      "execution_count": null,
      "outputs": [
        {
          "output_type": "stream",
          "name": "stdout",
          "text": [
            "torch.Size([400, 1, 100])\n",
            "torch.Size([400, 1, 100]) torch.Size([400, 1, 100])\n",
            "torch.Size([400]) torch.Size([400])\n"
          ]
        }
      ]
    },
    {
      "cell_type": "markdown",
      "metadata": {
        "id": "f7711862"
      },
      "source": [
        "### Training"
      ],
      "id": "f7711862"
    },
    {
      "cell_type": "code",
      "metadata": {
        "id": "e277aef8"
      },
      "source": [
        "import torch.optim as optim\n"
      ],
      "id": "e277aef8",
      "execution_count": null,
      "outputs": []
    },
    {
      "cell_type": "code",
      "metadata": {
        "id": "0e5a4a5b"
      },
      "source": [
        "def train(model, criterion, data, labels, optimizer, epochs):\n",
        "\n",
        "    for epoch in range(epochs):  \n",
        "\n",
        "        optimizer.zero_grad()\n",
        "        outputs = model(data)\n",
        "        loss = criterion(outputs, labels)\n",
        "        loss.backward()\n",
        "        optimizer.step()\n",
        "        \n",
        "        # if epoch%500 == 0:   \n",
        "        #     print('Epoch %d --- loss: %.3f' %\n",
        "        #             (epoch + 1, loss.item()))\n",
        "        #     #test(model, criterion, test_data, test_labels, num_epochs)\n",
        "\n",
        "    # print('Finished Training')\n",
        "    \n",
        "\n",
        "def test(model, criterion, data, labels, epochs):\n",
        "    correct = 0\n",
        "    \n",
        "    with torch.no_grad():\n",
        "        outputs = model(data)\n",
        "    #     predicted = torch.max(outputs.data, 1).indices\n",
        "    #     correct += (predicted == labels).sum().item()\n",
        "    # outputt = 100*correct / data.shape[0]\n",
        "    outputt = criterion(outputs, labels)\n",
        "    # print('Accuracy of the network on the %d test images: %.4f %%' % (data.shape[0],\n",
        "    #     outputt))\n",
        "    return outputt"
      ],
      "id": "0e5a4a5b",
      "execution_count": null,
      "outputs": []
    },
    {
      "cell_type": "code",
      "metadata": {
        "id": "4b4fe7a1"
      },
      "source": [
        "num_epochs = 5000\n",
        "\n",
        "my_mixture = LinearCNN(200, 10, PATCH_NUM) #input_dim, out_channel (m), cluter_num, patch_num\n",
        "criterion = torch.nn.CrossEntropyLoss() \n",
        "optimizer = optim.SGD(my_mixture.parameters(), lr=0.01, momentum=0, weight_decay=0)\n",
        "\n",
        "train(my_mixture, criterion, training_data, training_labels, optimizer, num_epochs)"
      ],
      "id": "4b4fe7a1",
      "execution_count": null,
      "outputs": []
    },
    {
      "cell_type": "code",
      "metadata": {
        "id": "349b6abb",
        "outputId": "1b678667-3e6c-4dcd-cf46-bb76efceccb0",
        "colab": {
          "base_uri": "https://localhost:8080/"
        }
      },
      "source": [
        "test(my_mixture, criterion, training_data, training_labels, num_epochs)\n",
        "test(my_mixture, criterion, test_data, test_labels, num_epochs)"
      ],
      "id": "349b6abb",
      "execution_count": null,
      "outputs": [
        {
          "output_type": "execute_result",
          "data": {
            "text/plain": [
              "tensor(0.2061)"
            ]
          },
          "metadata": {},
          "execution_count": 15
        }
      ]
    },
    {
      "cell_type": "code",
      "source": [
        "num_epochs = 50\n",
        "DATA_NUM = 100\n",
        "CLUSTER_NUM = 1\n",
        "PATCH_NUM = 2\n",
        "sigma = 20\n",
        "# PATCH_LEN = 500\n",
        "PATCH_LEN = sigma*sigma\n",
        "Noiselevel = 1.0\n",
        "\n",
        "features = torch.zeros(CLUSTER_NUM, PATCH_LEN)\n",
        "pos = 0\n",
        "for i in range(CLUSTER_NUM):\n",
        "    features[i,pos] = 1\n",
        "    pos+=1\n",
        "\n",
        "strength = []\n",
        "test_acc = []\n",
        "train_acc = []\n",
        "\n",
        "\n",
        "Data_train = np.random.rand(100, 100)\n",
        "Data_test = np.random.rand(100, 100)\n",
        "for s in range(100):\n",
        "  print(s)\n",
        "  bmu = 0.01*s*sigma\n",
        "  strength.append(bmu/sigma)\n",
        "  for t in range(100):\n",
        "    test1 = 0\n",
        "    train1 = 0\n",
        "    DATA_NUM = t + 1\n",
        "    for j in range(10):\n",
        "      data = []\n",
        "      labels = []\n",
        "      for i in range(DATA_NUM*2):\n",
        "        y = np.random.choice([-1,1], 1)[0] \n",
        "        k = torch.randint(0, CLUSTER_NUM, (1,))\n",
        "        xi = torch.tensor(np.random.normal(0, Noiselevel, size=(PATCH_LEN))) \n",
        "        # orthogonal\n",
        "        xi[:CLUSTER_NUM] = 0    \n",
        "        x = torch.stack([features[k][0]*bmu*y, xi])    \n",
        "        # random permutation\n",
        "        idx = torch.randperm(len(x))\n",
        "        x = x[idx].flatten()\n",
        "        data.append(x)\n",
        "        labels.append(y)\n",
        "      data = torch.stack(data)\n",
        "      labels = torch.tensor(labels)\n",
        "      labels[labels==-1] = 0\n",
        "\n",
        "      training_data = data[:DATA_NUM,:].unsqueeze(1).float()\n",
        "      test_data = data[DATA_NUM::].unsqueeze(1).float()\n",
        "      training_labels = labels[:DATA_NUM]\n",
        "      test_labels = labels[DATA_NUM:]\n",
        "      my_mixture = LinearCNN(2*PATCH_LEN, 10, PATCH_NUM) #input_dim, out_channel (m), cluter_num, patch_num\n",
        "      criterion = torch.nn.CrossEntropyLoss() \n",
        "      optimizer = optim.SGD(my_mixture.parameters(), lr= 0.01, momentum=0, weight_decay=0)\n",
        "      train(my_mixture, criterion, training_data, training_labels, optimizer, num_epochs)\n",
        "      train1 += test(my_mixture, criterion, training_data, training_labels, num_epochs)\n",
        "      test1 += test(my_mixture, criterion, test_data, test_labels, num_epochs)\n",
        "    # test_acc.append(test1/10)\n",
        "    # train_acc.append(train1/10)\n",
        "    Data_train[t][s] = train1/10\n",
        "    Data_test[t][s] = test1/10"
      ],
      "metadata": {
        "id": "dy61UnbJ5ZIo",
        "colab": {
          "base_uri": "https://localhost:8080/"
        },
        "outputId": "16b3c8d1-51c7-4c1f-88f5-ac2ab9b2ae9a"
      },
      "id": "dy61UnbJ5ZIo",
      "execution_count": null,
      "outputs": [
        {
          "output_type": "stream",
          "name": "stdout",
          "text": [
            "0\n",
            "1\n",
            "2\n",
            "3\n",
            "4\n",
            "5\n",
            "6\n",
            "7\n",
            "8\n",
            "9\n",
            "10\n",
            "11\n",
            "12\n",
            "13\n",
            "14\n",
            "15\n",
            "16\n",
            "17\n",
            "18\n",
            "19\n",
            "20\n",
            "21\n",
            "22\n",
            "23\n",
            "24\n",
            "25\n",
            "26\n",
            "27\n",
            "28\n",
            "29\n",
            "30\n",
            "31\n",
            "32\n",
            "33\n",
            "34\n",
            "35\n",
            "36\n",
            "37\n",
            "38\n",
            "39\n",
            "40\n",
            "41\n",
            "42\n",
            "43\n",
            "44\n",
            "45\n",
            "46\n",
            "47\n",
            "48\n",
            "49\n",
            "50\n",
            "51\n",
            "52\n",
            "53\n",
            "54\n",
            "55\n",
            "56\n",
            "57\n",
            "58\n",
            "59\n",
            "60\n",
            "61\n",
            "62\n",
            "63\n",
            "64\n",
            "65\n",
            "66\n",
            "67\n",
            "68\n",
            "69\n",
            "70\n",
            "71\n",
            "72\n",
            "73\n",
            "74\n",
            "75\n",
            "76\n",
            "77\n",
            "78\n",
            "79\n",
            "80\n",
            "81\n",
            "82\n",
            "83\n",
            "84\n",
            "85\n",
            "86\n",
            "87\n",
            "88\n",
            "89\n",
            "90\n",
            "91\n",
            "92\n",
            "93\n",
            "94\n",
            "95\n",
            "96\n",
            "97\n",
            "98\n",
            "99\n"
          ]
        }
      ]
    },
    {
      "cell_type": "code",
      "source": [
        "import seaborn as sns"
      ],
      "metadata": {
        "id": "6plkj0EK3j3F"
      },
      "id": "6plkj0EK3j3F",
      "execution_count": null,
      "outputs": []
    },
    {
      "cell_type": "code",
      "source": [
        "# Data_test1 = Data_test[50:100, 0:50]\n",
        "# Data_train1 = Data_train[50:100, 0:50]\n",
        "\n",
        "A1 =  np.multiply(range(100), 0.01)\n",
        "A2 =  range(1, 101)\n",
        "xlabels = ['{:3.1f}'.format(x) for x in A1]\n",
        "# ylabels = ['{:3.1f}'.format(y) for y in A2]\n",
        "ylabels = A2\n",
        "ax = sns.heatmap(Data_test, xticklabels = xlabels, yticklabels = ylabels, cmap = \"YlGnBu\", vmax = 1)\n",
        "# ax = sns.heatmap(Data_test, cmap = \"YlGnBu\")\n",
        "ax.invert_yaxis()\n",
        "\n",
        "ax.set_title(\"Test Loss Heatmap\")\n",
        "ax.set_xlabel('SNR')\n",
        "ax.set_ylabel('Training Data Number')\n",
        "ax.set_xticks(ax.get_xticks()[::10])\n",
        "ax.set_xticklabels(xlabels[::10])\n",
        "ax.set_yticks(ax.get_yticks()[::10])\n",
        "ax.set_yticklabels(ylabels[::10])\n",
        "plt.show()"
      ],
      "metadata": {
        "colab": {
          "base_uri": "https://localhost:8080/",
          "height": 301
        },
        "id": "2QBKobN73kpA",
        "outputId": "850b999b-c34d-4c6f-e7e2-afc9b7d0ff85"
      },
      "id": "2QBKobN73kpA",
      "execution_count": null,
      "outputs": [
        {
          "output_type": "display_data",
          "data": {
            "text/plain": [
              "<Figure size 432x288 with 2 Axes>"
            ],
            "image/png": "[encoded data removed]"
          },
          "metadata": {
            "needs_background": "light"
          }
        }
      ]
    },
    {
      "cell_type": "code",
      "source": [
        "# Data_test1 = Data_test[50:100, 0:50]\n",
        "# Data_train1 = Data_train[50:100, 0:50]\n",
        "\n",
        "A1 =  np.multiply(range(100), 0.01)\n",
        "A2 =  range(1, 101)\n",
        "xlabels = ['{:3.1f}'.format(x) for x in A1]\n",
        "# ylabels = ['{:3.1f}'.format(y) for y in A2]\n",
        "ylabels = A2\n",
        "ax = sns.heatmap(Data_train, xticklabels = xlabels, yticklabels = ylabels, cmap = \"YlGnBu\", vmax = 1)\n",
        "# ax = sns.heatmap(Data_test, cmap = \"YlGnBu\")\n",
        "ax.invert_yaxis()\n",
        "\n",
        "ax.set_title(\"Training Loss Heatmap\")\n",
        "ax.set_xlabel('SNR')\n",
        "ax.set_ylabel('Training Data Number')\n",
        "ax.set_xticks(ax.get_xticks()[::10])\n",
        "ax.set_xticklabels(xlabels[::10])\n",
        "ax.set_yticks(ax.get_yticks()[::10])\n",
        "ax.set_yticklabels(ylabels[::10])\n",
        "plt.show()"
      ],
      "metadata": {
        "colab": {
          "base_uri": "https://localhost:8080/",
          "height": 301
        },
        "id": "a7L4RV2qHShi",
        "outputId": "aebcecd0-4f5a-4db9-d734-62da33c79c85"
      },
      "id": "a7L4RV2qHShi",
      "execution_count": null,
      "outputs": [
        {
          "output_type": "display_data",
          "data": {
            "text/plain": [
              "<Figure size 432x288 with 2 Axes>"
            ],
            "image/png": "[encoded data removed]"
          },
          "metadata": {
            "needs_background": "light"
          }
        }
      ]
    },
    {
      "cell_type": "code",
      "source": [
        "plt.suptitle('n = 100, d = 400')\n",
        "plt.plot(strength,test_acc, label = 'test nonlinear')\n",
        "plt.plot(strength,train_acc, label = 'training nonlinear')\n",
        "plt.xlabel('Signal Ratio (mu divided by the noise std)')\n",
        "plt.ylabel('Accuracy')\n",
        "plt.legend()\n",
        "plt.show()"
      ],
      "metadata": {
        "colab": {
          "base_uri": "https://localhost:8080/",
          "height": 308
        },
        "id": "XJoi0dF3JsWj",
        "outputId": "5244db40-075f-49aa-c9f2-92e2baab2f89"
      },
      "id": "XJoi0dF3JsWj",
      "execution_count": null,
      "outputs": [
        {
          "output_type": "display_data",
          "data": {
            "text/plain": [
              "<Figure size 432x288 with 1 Axes>"
            ],
            "image/png": "[encoded data removed]"
          },
          "metadata": {
            "needs_background": "light"
          }
        }
      ]
    }
  ]
}